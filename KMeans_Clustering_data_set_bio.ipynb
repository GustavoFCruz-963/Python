{
 "cells": [
  {
   "cell_type": "code",
   "execution_count": 1,
   "id": "8d5bc4e7",
   "metadata": {
    "ExecuteTime": {
     "end_time": "2021-06-28T19:13:30.559225Z",
     "start_time": "2021-06-28T19:13:28.395525Z"
    }
   },
   "outputs": [],
   "source": [
    "import numpy as np\n",
    "import pandas as pd\n",
    "\n",
    "import matplotlib.pyplot as plt\n",
    "from matplotlib import rcParams\n",
    "\n",
    "from sklearn import datasets\n",
    "from sklearn.preprocessing import scale\n",
    "from sklearn.cluster import KMeans\n",
    "from sklearn.metrics import classification_report\n",
    "from sklearn.preprocessing import StandardScaler\n",
    "from sklearn.model_selection import train_test_split\n",
    "from sklearn.metrics import silhouette_score\n",
    "import scipy.stats as stats\n",
    "\n",
    "\n",
    "from kneed import KneeLocator\n",
    "from sklearn.datasets import make_blobs\n",
    "\n",
    "%matplotlib inline\n",
    "rcParams['figure.figsize'] = 7, 4\n",
    "plt.style.use('seaborn-whitegrid')"
   ]
  },
  {
   "cell_type": "code",
   "execution_count": 2,
   "id": "b9d8ac96",
   "metadata": {
    "ExecuteTime": {
     "end_time": "2021-06-28T19:13:32.158769Z",
     "start_time": "2021-06-28T19:13:32.134132Z"
    }
   },
   "outputs": [],
   "source": [
    "data = pd.read_csv('datasets/data_set_bio.csv')"
   ]
  },
  {
   "cell_type": "code",
   "execution_count": 3,
   "id": "2b81ab5c",
   "metadata": {
    "ExecuteTime": {
     "end_time": "2021-06-28T19:13:33.828217Z",
     "start_time": "2021-06-28T19:13:33.798231Z"
    },
    "scrolled": true
   },
   "outputs": [
    {
     "data": {
      "text/html": [
       "<div>\n",
       "<style scoped>\n",
       "    .dataframe tbody tr th:only-of-type {\n",
       "        vertical-align: middle;\n",
       "    }\n",
       "\n",
       "    .dataframe tbody tr th {\n",
       "        vertical-align: top;\n",
       "    }\n",
       "\n",
       "    .dataframe thead th {\n",
       "        text-align: right;\n",
       "    }\n",
       "</style>\n",
       "<table border=\"1\" class=\"dataframe\">\n",
       "  <thead>\n",
       "    <tr style=\"text-align: right;\">\n",
       "      <th></th>\n",
       "      <th>diameter</th>\n",
       "      <th>Vmb</th>\n",
       "    </tr>\n",
       "    <tr>\n",
       "      <th>uid</th>\n",
       "      <th></th>\n",
       "      <th></th>\n",
       "    </tr>\n",
       "  </thead>\n",
       "  <tbody>\n",
       "    <tr>\n",
       "      <th>Y79_000</th>\n",
       "      <td>20.89430</td>\n",
       "      <td>-27.6512</td>\n",
       "    </tr>\n",
       "    <tr>\n",
       "      <th>Y79_001</th>\n",
       "      <td>16.85182</td>\n",
       "      <td>-24.8687</td>\n",
       "    </tr>\n",
       "    <tr>\n",
       "      <th>Y79_002</th>\n",
       "      <td>17.95220</td>\n",
       "      <td>-38.0629</td>\n",
       "    </tr>\n",
       "    <tr>\n",
       "      <th>Y79_003</th>\n",
       "      <td>15.81813</td>\n",
       "      <td>-12.6591</td>\n",
       "    </tr>\n",
       "    <tr>\n",
       "      <th>Y79_004</th>\n",
       "      <td>16.68500</td>\n",
       "      <td>-36.0233</td>\n",
       "    </tr>\n",
       "    <tr>\n",
       "      <th>...</th>\n",
       "      <td>...</td>\n",
       "      <td>...</td>\n",
       "    </tr>\n",
       "    <tr>\n",
       "      <th>Y79_090</th>\n",
       "      <td>19.86000</td>\n",
       "      <td>-16.1432</td>\n",
       "    </tr>\n",
       "    <tr>\n",
       "      <th>Y79_091</th>\n",
       "      <td>21.75000</td>\n",
       "      <td>-29.8170</td>\n",
       "    </tr>\n",
       "    <tr>\n",
       "      <th>Y79_092</th>\n",
       "      <td>16.14100</td>\n",
       "      <td>-27.6429</td>\n",
       "    </tr>\n",
       "    <tr>\n",
       "      <th>Y79_093</th>\n",
       "      <td>25.64000</td>\n",
       "      <td>-43.7864</td>\n",
       "    </tr>\n",
       "    <tr>\n",
       "      <th>Y79_094</th>\n",
       "      <td>48.64400</td>\n",
       "      <td>-54.0250</td>\n",
       "    </tr>\n",
       "  </tbody>\n",
       "</table>\n",
       "<p>95 rows × 2 columns</p>\n",
       "</div>"
      ],
      "text/plain": [
       "         diameter      Vmb\n",
       "uid                       \n",
       "Y79_000  20.89430 -27.6512\n",
       "Y79_001  16.85182 -24.8687\n",
       "Y79_002  17.95220 -38.0629\n",
       "Y79_003  15.81813 -12.6591\n",
       "Y79_004  16.68500 -36.0233\n",
       "...           ...      ...\n",
       "Y79_090  19.86000 -16.1432\n",
       "Y79_091  21.75000 -29.8170\n",
       "Y79_092  16.14100 -27.6429\n",
       "Y79_093  25.64000 -43.7864\n",
       "Y79_094  48.64400 -54.0250\n",
       "\n",
       "[95 rows x 2 columns]"
      ]
     },
     "execution_count": 3,
     "metadata": {},
     "output_type": "execute_result"
    }
   ],
   "source": [
    "data.set_index('uid')"
   ]
  },
  {
   "cell_type": "code",
   "execution_count": 4,
   "id": "aea65090",
   "metadata": {
    "ExecuteTime": {
     "end_time": "2021-06-28T19:13:35.022789Z",
     "start_time": "2021-06-28T19:13:34.893176Z"
    },
    "scrolled": true
   },
   "outputs": [
    {
     "data": {
      "text/plain": [
       "<matplotlib.collections.PathCollection at 0x2833be16af0>"
      ]
     },
     "execution_count": 4,
     "metadata": {},
     "output_type": "execute_result"
    },
    {
     "data": {
      "image/png": "[encoded data removed]",
      "text/plain": [
       "<Figure size 504x288 with 1 Axes>"
      ]
     },
     "metadata": {},
     "output_type": "display_data"
    }
   ],
   "source": [
    "plt.scatter(data['diameter'], data['Vmb'])"
   ]
  },
  {
   "cell_type": "code",
   "execution_count": 5,
   "id": "8f02bc4d",
   "metadata": {
    "ExecuteTime": {
     "end_time": "2021-06-28T19:13:36.117526Z",
     "start_time": "2021-06-28T19:13:36.096000Z"
    }
   },
   "outputs": [
    {
     "data": {
      "text/html": [
       "<div>\n",
       "<style scoped>\n",
       "    .dataframe tbody tr th:only-of-type {\n",
       "        vertical-align: middle;\n",
       "    }\n",
       "\n",
       "    .dataframe tbody tr th {\n",
       "        vertical-align: top;\n",
       "    }\n",
       "\n",
       "    .dataframe thead th {\n",
       "        text-align: right;\n",
       "    }\n",
       "</style>\n",
       "<table border=\"1\" class=\"dataframe\">\n",
       "  <thead>\n",
       "    <tr style=\"text-align: right;\">\n",
       "      <th></th>\n",
       "      <th>uid</th>\n",
       "      <th>diameter</th>\n",
       "      <th>Vmb</th>\n",
       "    </tr>\n",
       "  </thead>\n",
       "  <tbody>\n",
       "    <tr>\n",
       "      <th>0</th>\n",
       "      <td>Y79_000</td>\n",
       "      <td>20.89430</td>\n",
       "      <td>-27.6512</td>\n",
       "    </tr>\n",
       "    <tr>\n",
       "      <th>1</th>\n",
       "      <td>Y79_001</td>\n",
       "      <td>16.85182</td>\n",
       "      <td>-24.8687</td>\n",
       "    </tr>\n",
       "    <tr>\n",
       "      <th>2</th>\n",
       "      <td>Y79_002</td>\n",
       "      <td>17.95220</td>\n",
       "      <td>-38.0629</td>\n",
       "    </tr>\n",
       "    <tr>\n",
       "      <th>3</th>\n",
       "      <td>Y79_003</td>\n",
       "      <td>15.81813</td>\n",
       "      <td>-12.6591</td>\n",
       "    </tr>\n",
       "    <tr>\n",
       "      <th>4</th>\n",
       "      <td>Y79_004</td>\n",
       "      <td>16.68500</td>\n",
       "      <td>-36.0233</td>\n",
       "    </tr>\n",
       "  </tbody>\n",
       "</table>\n",
       "</div>"
      ],
      "text/plain": [
       "       uid  diameter      Vmb\n",
       "0  Y79_000  20.89430 -27.6512\n",
       "1  Y79_001  16.85182 -24.8687\n",
       "2  Y79_002  17.95220 -38.0629\n",
       "3  Y79_003  15.81813 -12.6591\n",
       "4  Y79_004  16.68500 -36.0233"
      ]
     },
     "execution_count": 5,
     "metadata": {},
     "output_type": "execute_result"
    }
   ],
   "source": [
    "data.head()"
   ]
  },
  {
   "cell_type": "code",
   "execution_count": 6,
   "id": "355e100c",
   "metadata": {
    "ExecuteTime": {
     "end_time": "2021-06-28T19:13:37.382992Z",
     "start_time": "2021-06-28T19:13:37.374987Z"
    }
   },
   "outputs": [],
   "source": [
    "scaler = StandardScaler()"
   ]
  },
  {
   "cell_type": "code",
   "execution_count": 7,
   "id": "3424fb4e",
   "metadata": {
    "ExecuteTime": {
     "end_time": "2021-06-28T19:13:38.369368Z",
     "start_time": "2021-06-28T19:13:38.339779Z"
    }
   },
   "outputs": [
    {
     "data": {
      "text/plain": [
       "StandardScaler()"
      ]
     },
     "execution_count": 7,
     "metadata": {},
     "output_type": "execute_result"
    }
   ],
   "source": [
    "scaler.fit(data.drop('uid', axis = 1))"
   ]
  },
  {
   "cell_type": "code",
   "execution_count": 8,
   "id": "97099c1c",
   "metadata": {
    "ExecuteTime": {
     "end_time": "2021-06-28T19:13:39.448692Z",
     "start_time": "2021-06-28T19:13:39.425678Z"
    }
   },
   "outputs": [],
   "source": [
    "scaled_features = scaler.transform(data.drop('uid', axis = 1))"
   ]
  },
  {
   "cell_type": "code",
   "execution_count": 9,
   "id": "aa10775e",
   "metadata": {
    "ExecuteTime": {
     "end_time": "2021-06-28T19:13:40.538091Z",
     "start_time": "2021-06-28T19:13:40.518714Z"
    }
   },
   "outputs": [
    {
     "data": {
      "text/plain": [
       "(95, 2)"
      ]
     },
     "execution_count": 9,
     "metadata": {},
     "output_type": "execute_result"
    }
   ],
   "source": [
    "data_feat = pd.DataFrame(scaled_features, columns = data.drop('uid', axis = 1).columns)\n",
    "data_feat.shape"
   ]
  },
  {
   "cell_type": "code",
   "execution_count": 10,
   "id": "b86007fd",
   "metadata": {
    "ExecuteTime": {
     "end_time": "2021-06-28T19:13:41.620957Z",
     "start_time": "2021-06-28T19:13:41.612959Z"
    }
   },
   "outputs": [],
   "source": [
    "kmeans = KMeans(n_clusters=4)"
   ]
  },
  {
   "cell_type": "code",
   "execution_count": 11,
   "id": "7e77c351",
   "metadata": {
    "ExecuteTime": {
     "end_time": "2021-06-28T19:13:42.754807Z",
     "start_time": "2021-06-28T19:13:42.705107Z"
    }
   },
   "outputs": [
    {
     "data": {
      "text/plain": [
       "KMeans(n_clusters=4)"
      ]
     },
     "execution_count": 11,
     "metadata": {},
     "output_type": "execute_result"
    }
   ],
   "source": [
    "kmeans.fit(data.drop('uid', axis = 1))"
   ]
  },
  {
   "cell_type": "code",
   "execution_count": 12,
   "id": "a7f01c71",
   "metadata": {
    "ExecuteTime": {
     "end_time": "2021-06-28T19:13:43.816668Z",
     "start_time": "2021-06-28T19:13:43.771960Z"
    }
   },
   "outputs": [],
   "source": [
    "y_kmeans = kmeans.predict(data.drop('uid', axis = 1))"
   ]
  },
  {
   "cell_type": "code",
   "execution_count": 13,
   "id": "42bfa574",
   "metadata": {
    "ExecuteTime": {
     "end_time": "2021-06-28T19:13:44.897677Z",
     "start_time": "2021-06-28T19:13:44.889654Z"
    }
   },
   "outputs": [
    {
     "data": {
      "text/plain": [
       "array([2, 1, 2, 1, 2, 2, 3, 2, 2, 0, 3, 2, 3, 2, 1, 0, 3, 1, 1, 1, 2, 1,\n",
       "       2, 2, 0, 0, 0, 0, 2, 1, 1, 2, 1, 3, 3, 3, 3, 3, 0, 0, 3, 2, 3, 3,\n",
       "       1, 1, 1, 1, 2, 2, 1, 1, 1, 2, 2, 1, 2, 2, 2, 2, 1, 1, 2, 2, 0, 2,\n",
       "       2, 1, 0, 0, 2, 0, 2, 1, 2, 3, 0, 1, 3, 1, 1, 0, 1, 1, 1, 1, 2, 1,\n",
       "       2, 2, 1, 2, 2, 0, 3])"
      ]
     },
     "execution_count": 13,
     "metadata": {},
     "output_type": "execute_result"
    }
   ],
   "source": [
    "kmeans.labels_"
   ]
  },
  {
   "cell_type": "code",
   "execution_count": 14,
   "id": "ec291df3",
   "metadata": {
    "ExecuteTime": {
     "end_time": "2021-06-28T19:13:46.148092Z",
     "start_time": "2021-06-28T19:13:46.132563Z"
    }
   },
   "outputs": [
    {
     "data": {
      "text/plain": [
       "array([[ 36.343588  , -43.82728   ],\n",
       "       [ 15.79493106, -18.13565065],\n",
       "       [ 21.65208899, -32.08608529],\n",
       "       [ 44.55375967, -63.16235333]])"
      ]
     },
     "execution_count": 14,
     "metadata": {},
     "output_type": "execute_result"
    }
   ],
   "source": [
    "kmeans.cluster_centers_"
   ]
  },
  {
   "cell_type": "code",
   "execution_count": 15,
   "id": "fa983840",
   "metadata": {
    "ExecuteTime": {
     "end_time": "2021-06-28T19:13:47.303036Z",
     "start_time": "2021-06-28T19:13:47.294910Z"
    }
   },
   "outputs": [],
   "source": [
    "data['groups'] = y_kmeans"
   ]
  },
  {
   "cell_type": "code",
   "execution_count": 16,
   "id": "e7dd427f",
   "metadata": {
    "ExecuteTime": {
     "end_time": "2021-06-28T19:13:48.575593Z",
     "start_time": "2021-06-28T19:13:48.558631Z"
    }
   },
   "outputs": [
    {
     "data": {
      "text/html": [
       "<div>\n",
       "<style scoped>\n",
       "    .dataframe tbody tr th:only-of-type {\n",
       "        vertical-align: middle;\n",
       "    }\n",
       "\n",
       "    .dataframe tbody tr th {\n",
       "        vertical-align: top;\n",
       "    }\n",
       "\n",
       "    .dataframe thead th {\n",
       "        text-align: right;\n",
       "    }\n",
       "</style>\n",
       "<table border=\"1\" class=\"dataframe\">\n",
       "  <thead>\n",
       "    <tr style=\"text-align: right;\">\n",
       "      <th></th>\n",
       "      <th>uid</th>\n",
       "      <th>diameter</th>\n",
       "      <th>Vmb</th>\n",
       "      <th>groups</th>\n",
       "    </tr>\n",
       "  </thead>\n",
       "  <tbody>\n",
       "    <tr>\n",
       "      <th>0</th>\n",
       "      <td>Y79_000</td>\n",
       "      <td>20.89430</td>\n",
       "      <td>-27.6512</td>\n",
       "      <td>2</td>\n",
       "    </tr>\n",
       "    <tr>\n",
       "      <th>1</th>\n",
       "      <td>Y79_001</td>\n",
       "      <td>16.85182</td>\n",
       "      <td>-24.8687</td>\n",
       "      <td>1</td>\n",
       "    </tr>\n",
       "    <tr>\n",
       "      <th>2</th>\n",
       "      <td>Y79_002</td>\n",
       "      <td>17.95220</td>\n",
       "      <td>-38.0629</td>\n",
       "      <td>2</td>\n",
       "    </tr>\n",
       "    <tr>\n",
       "      <th>3</th>\n",
       "      <td>Y79_003</td>\n",
       "      <td>15.81813</td>\n",
       "      <td>-12.6591</td>\n",
       "      <td>1</td>\n",
       "    </tr>\n",
       "    <tr>\n",
       "      <th>4</th>\n",
       "      <td>Y79_004</td>\n",
       "      <td>16.68500</td>\n",
       "      <td>-36.0233</td>\n",
       "      <td>2</td>\n",
       "    </tr>\n",
       "  </tbody>\n",
       "</table>\n",
       "</div>"
      ],
      "text/plain": [
       "       uid  diameter      Vmb  groups\n",
       "0  Y79_000  20.89430 -27.6512       2\n",
       "1  Y79_001  16.85182 -24.8687       1\n",
       "2  Y79_002  17.95220 -38.0629       2\n",
       "3  Y79_003  15.81813 -12.6591       1\n",
       "4  Y79_004  16.68500 -36.0233       2"
      ]
     },
     "execution_count": 16,
     "metadata": {},
     "output_type": "execute_result"
    }
   ],
   "source": [
    "data.head(5)"
   ]
  },
  {
   "cell_type": "code",
   "execution_count": 17,
   "id": "5e134da7",
   "metadata": {
    "ExecuteTime": {
     "end_time": "2021-06-28T19:13:49.863199Z",
     "start_time": "2021-06-28T19:13:49.831203Z"
    }
   },
   "outputs": [
    {
     "data": {
      "text/html": [
       "<div>\n",
       "<style scoped>\n",
       "    .dataframe tbody tr th:only-of-type {\n",
       "        vertical-align: middle;\n",
       "    }\n",
       "\n",
       "    .dataframe tbody tr th {\n",
       "        vertical-align: top;\n",
       "    }\n",
       "\n",
       "    .dataframe thead th {\n",
       "        text-align: right;\n",
       "    }\n",
       "</style>\n",
       "<table border=\"1\" class=\"dataframe\">\n",
       "  <thead>\n",
       "    <tr style=\"text-align: right;\">\n",
       "      <th></th>\n",
       "      <th>groups</th>\n",
       "      <th>diameter</th>\n",
       "    </tr>\n",
       "  </thead>\n",
       "  <tbody>\n",
       "    <tr>\n",
       "      <th>0</th>\n",
       "      <td>0</td>\n",
       "      <td>36.343588</td>\n",
       "    </tr>\n",
       "    <tr>\n",
       "      <th>1</th>\n",
       "      <td>1</td>\n",
       "      <td>15.794931</td>\n",
       "    </tr>\n",
       "    <tr>\n",
       "      <th>2</th>\n",
       "      <td>2</td>\n",
       "      <td>21.652089</td>\n",
       "    </tr>\n",
       "    <tr>\n",
       "      <th>3</th>\n",
       "      <td>3</td>\n",
       "      <td>44.553760</td>\n",
       "    </tr>\n",
       "  </tbody>\n",
       "</table>\n",
       "</div>"
      ],
      "text/plain": [
       "   groups   diameter\n",
       "0       0  36.343588\n",
       "1       1  15.794931\n",
       "2       2  21.652089\n",
       "3       3  44.553760"
      ]
     },
     "execution_count": 17,
     "metadata": {},
     "output_type": "execute_result"
    }
   ],
   "source": [
    "data[['diameter', 'groups']].groupby('groups').mean().reset_index()"
   ]
  },
  {
   "cell_type": "code",
   "execution_count": 18,
   "id": "ba90f2ec",
   "metadata": {
    "ExecuteTime": {
     "end_time": "2021-06-28T19:13:52.225396Z",
     "start_time": "2021-06-28T19:13:52.202223Z"
    }
   },
   "outputs": [],
   "source": [
    "y=pd.DataFrame(data.Vmb)"
   ]
  },
  {
   "cell_type": "code",
   "execution_count": 19,
   "id": "706e7cf0",
   "metadata": {
    "ExecuteTime": {
     "end_time": "2021-06-28T19:13:53.800035Z",
     "start_time": "2021-06-28T19:13:53.597873Z"
    },
    "scrolled": true
   },
   "outputs": [
    {
     "data": {
      "image/png": "[encoded data removed]",
      "text/plain": [
       "<Figure size 720x432 with 2 Axes>"
      ]
     },
     "metadata": {},
     "output_type": "display_data"
    }
   ],
   "source": [
    "f, (ax1, ax2) = plt.subplots(1, 2, sharey=True,figsize=(10,6))\n",
    "\n",
    "ax1.scatter(data['diameter'], data['Vmb'])\n",
    "ax2.scatter(data['diameter'], data['Vmb'], c=y_kmeans, s=50, cmap='viridis')\n",
    "\n",
    "centers = kmeans.cluster_centers_\n",
    "\n",
    "plt.scatter(centers[:, 0], centers[:, 1], c='black', s=200, alpha=0.5)\n",
    "plt.annotate('Grupo 2 - Diametro ~ 16', xy= (25,-15), xytext= (25,-15))\n",
    "plt.annotate('Grupo 0 - Diametro ~ 21', xy= (30,-25), xytext= (30,-25))\n",
    "plt.annotate('Grupo 3 - Diametro ~ 35', xy= (40,-35), xytext= (40,-35))\n",
    "plt.annotate('Grupo 1 - Diametro ~ 44', xy= (50,-50), xytext= (50,-50))\n",
    "plt.show()"
   ]
  },
  {
   "cell_type": "code",
   "execution_count": 20,
   "id": "2f5cc136",
   "metadata": {
    "ExecuteTime": {
     "end_time": "2021-06-28T19:14:00.103636Z",
     "start_time": "2021-06-28T19:14:00.078427Z"
    }
   },
   "outputs": [
    {
     "name": "stdout",
     "output_type": "stream",
     "text": [
      "0.45055799351243886\n"
     ]
    }
   ],
   "source": [
    "print(silhouette_score(data.drop('uid', axis = 1), kmeans.labels_))"
   ]
  },
  {
   "cell_type": "code",
   "execution_count": 21,
   "id": "c8aea1fe",
   "metadata": {
    "ExecuteTime": {
     "end_time": "2021-06-28T19:14:02.205441Z",
     "start_time": "2021-06-28T19:14:01.724491Z"
    }
   },
   "outputs": [
    {
     "data": {
      "image/png": "[encoded data removed]",
      "text/plain": [
       "<Figure size 576x396 with 1 Axes>"
      ]
     },
     "metadata": {},
     "output_type": "display_data"
    },
    {
     "data": {
      "text/plain": [
       "<AxesSubplot:title={'center':'Silhouette Score Elbow for KMeans Clustering'}, xlabel='k', ylabel='silhouette score'>"
      ]
     },
     "execution_count": 21,
     "metadata": {},
     "output_type": "execute_result"
    }
   ],
   "source": [
    "# Import the KElbowVisualizer method \n",
    "from yellowbrick.cluster import KElbowVisualizer\n",
    "\n",
    "# Instantiate a scikit-learn K-Means model\n",
    "model = KMeans(random_state=0)\n",
    "\n",
    "# Instantiate the KElbowVisualizer with the number of clusters and the metric \n",
    "visualizer = KElbowVisualizer(model, k=(2,6), metric='silhouette', timings=False)\n",
    "\n",
    "# Fit the data and visualize\n",
    "visualizer.fit(data.drop('uid', axis = 1))    \n",
    "visualizer.poof()"
   ]
  },
  {
   "cell_type": "code",
   "execution_count": 22,
   "id": "f69a09d2",
   "metadata": {
    "ExecuteTime": {
     "end_time": "2021-06-28T19:14:05.427069Z",
     "start_time": "2021-06-28T19:14:05.088882Z"
    },
    "scrolled": true
   },
   "outputs": [
    {
     "name": "stderr",
     "output_type": "stream",
     "text": [
      "C:\\Users\\Gustavo Cruz\\anaconda3\\lib\\site-packages\\sklearn\\cluster\\_kmeans.py:881: UserWarning: KMeans is known to have a memory leak on Windows with MKL, when there are less chunks than available threads. You can avoid it by setting the environment variable OMP_NUM_THREADS=1.\n",
      "  warnings.warn(\n"
     ]
    },
    {
     "name": "stdout",
     "output_type": "stream",
     "text": [
      "1 37686.23501993397\n",
      "2 11843.81706020154\n",
      "3 6617.404037499294\n",
      "4 4849.1908301021695\n",
      "5 3764.9858961829846\n",
      "6 2855.0083465182997\n",
      "7 2338.1021349062953\n",
      "8 1950.4609151340733\n",
      "9 1749.0105479579033\n",
      "10 1527.811858415578\n"
     ]
    },
    {
     "data": {
      "image/png": "[encoded data removed]",
      "text/plain": [
       "<Figure size 576x396 with 1 Axes>"
      ]
     },
     "metadata": {},
     "output_type": "display_data"
    }
   ],
   "source": [
    "wcss = []\n",
    " \n",
    "for i in range(1, 11):\n",
    "    kmeans = KMeans(n_clusters = i, init = 'random')\n",
    "    kmeans.fit(data.drop('uid',axis = 1))\n",
    "    print(i,kmeans.inertia_)\n",
    "    wcss.append(kmeans.inertia_)  \n",
    "plt.plot(range(1, 11), wcss)\n",
    "plt.title('O Metodo Elbow')\n",
    "plt.xlabel('Numero de Clusters')\n",
    "plt.ylabel('WSS') #within cluster sum of squares\n",
    "plt.show()"
   ]
  },
  {
   "cell_type": "code",
   "execution_count": 25,
   "id": "06c0e9ad",
   "metadata": {
    "ExecuteTime": {
     "end_time": "2021-06-28T19:18:49.011591Z",
     "start_time": "2021-06-28T19:18:49.003596Z"
    }
   },
   "outputs": [
    {
     "name": "stdout",
     "output_type": "stream",
     "text": [
      "O valor F é: 854.1184135449032\n",
      "O valor p é: 7.82734916877535e-72\n"
     ]
    }
   ],
   "source": [
    "fvalue, pvalue = stats.f_oneway(data['diameter'], data['Vmb'])\n",
    "print(\"O valor F é: {}\".format (fvalue))\n",
    "print(\"O valor p é: {}\".format(pvalue))"
   ]
  },
  {
   "cell_type": "code",
   "execution_count": 26,
   "id": "4625f4ee",
   "metadata": {
    "ExecuteTime": {
     "end_time": "2021-06-28T19:21:14.950035Z",
     "start_time": "2021-06-28T19:21:14.924873Z"
    }
   },
   "outputs": [
    {
     "name": "stdout",
     "output_type": "stream",
     "text": [
      "6.800964938888967 0.00911086193748569\n"
     ]
    }
   ],
   "source": [
    "w, pvalue = stats.bartlett(data['diameter'], data['Vmb'])\n",
    "print(w, pvalue)"
   ]
  }
 ],
 "metadata": {
  "kernelspec": {
   "display_name": "Python 3",
   "language": "python",
   "name": "python3"
  },
  "language_info": {
   "codemirror_mode": {
    "name": "ipython",
    "version": 3
   },
   "file_extension": ".py",
   "mimetype": "text/x-python",
   "name": "python",
   "nbconvert_exporter": "python",
   "pygments_lexer": "ipython3",
   "version": "3.8.8"
  }
 },
 "nbformat": 4,
 "nbformat_minor": 5
}
